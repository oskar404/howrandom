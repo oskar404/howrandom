{
 "cells": [
  {
   "cell_type": "markdown",
   "metadata": {},
   "source": [
    "# Just How Random These Candy Codes Are\n",
    "\n",
    "Received a few of golden candy papers with codes in them and started to wonder the randomness of the codes.\n",
    "\n",
    "![Golden Candy Paper](candypaper.jpg)\n",
    "\n",
    "The source of the data is candy papers collected from bags of candies.\n",
    "\n",
    "This is good excuse to study how randomness is tested.\n"
   ]
  },
  {
   "cell_type": "markdown",
   "metadata": {},
   "source": [
    "## Source Data\n",
    "\n",
    "To add bit more data into this a bunch of data samples were created with different sources and methods:\n",
    "\n",
    "1. `/dev/urandom` provided by Linux kernel https://linux.die.net/man/4/urandom \n",
    "2. Hotbits provided by FourmiLabs https://www.fourmilab.ch/hotbits/\n",
    "3. `random.org` service https://www.random.org/\n",
    "4. Posix Pseudo Random Number Generator `rand()` https://linux.die.net/man/3/rand\n",
    "5. Python `random` library https://docs.python.org/3.6/library/random.html\n",
    "6. Middle Square algorithm https://en.wikipedia.org/wiki/Middle-square_method\n",
    "\n",
    "Data was created as 128 bytes and 128 character string with upper case (A-Z) letters. "
   ]
  },
  {
   "cell_type": "markdown",
   "metadata": {},
   "source": [
    "## Preparation\n",
    "\n",
    "List of preparations done for processing the data"
   ]
  },
  {
   "cell_type": "code",
   "execution_count": 9,
   "metadata": {},
   "outputs": [],
   "source": [
    "import csv\n",
    "\n",
    "\n",
    "def read_csv(file):\n",
    "    data = []\n",
    "    with open(file, newline='') as csvfile:\n",
    "        reader = csv.reader(csvfile)\n",
    "        header = True\n",
    "        for row in reader:\n",
    "            if not header:\n",
    "                data.append(row[1].strip())\n",
    "            else:\n",
    "                # ignore header/first row\n",
    "                header = False\n",
    "    return ''.join(data)\n",
    "\n",
    "\n",
    "def read_bytes(file):\n",
    "    with open(file, 'rb') as f:\n",
    "        return bytes(f.read())\n",
    "    \n",
    "\n",
    "def read_string(file):\n",
    "    with open(file, 'r') as f:\n",
    "        return str(f.read())\n",
    "    \n",
    "\n",
    "config = {\n",
    "    'data.csv': {'text': True, 'reader': read_csv},\n",
    "    'hotbits.bin': {'text': False, 'reader': read_bytes},\n",
    "    'hotbits.txt': {'text': True, 'reader': read_string},\n",
    "    'middlesquare.bin': {'text': False, 'reader': read_bytes},\n",
    "    'middlesquare.txt': {'text': True, 'reader': read_string},\n",
    "    'pyrandom.bin': {'text': False, 'reader': read_bytes},\n",
    "    'pyrandom.txt': {'text': True, 'reader': read_string},\n",
    "    'rand.bin': {'text': False, 'reader': read_bytes},\n",
    "    'rand.txt': {'text': True, 'reader': read_string},\n",
    "    'random.org.bin': {'text': False, 'reader': read_bytes},\n",
    "    'random.org.txt': {'text': True, 'reader': read_string},\n",
    "    'urandom.bin': {'text': False, 'reader': read_bytes},\n",
    "    'urandom.txt': {'text': True, 'reader': read_string}    \n",
    "}"
   ]
  },
  {
   "cell_type": "markdown",
   "metadata": {},
   "source": [
    "## Import the Data\n",
    "\n",
    "Import the data from files"
   ]
  },
  {
   "cell_type": "code",
   "execution_count": 10,
   "metadata": {},
   "outputs": [],
   "source": [
    "def read_data(config):\n",
    "    data = {}\n",
    "    for key in config.keys():\n",
    "        data[key] = config[key]['reader'](key)\n",
    "    return data\n",
    "\n",
    "\n",
    "data = read_data(config)"
   ]
  },
  {
   "cell_type": "markdown",
   "metadata": {},
   "source": [
    "## Average Testing\n",
    "\n",
    "Simple test is to calculate the average of the values. Random values should be evenly distributed and the average should be in the middle of the range. In case random bytes it should be `127.5` and for Upper case ASCII strings the average should be `77.5`."
   ]
  }
 ],
 "metadata": {
  "kernelspec": {
   "display_name": "Python 3",
   "language": "python",
   "name": "python3"
  },
  "language_info": {
   "codemirror_mode": {
    "name": "ipython",
    "version": 3
   },
   "file_extension": ".py",
   "mimetype": "text/x-python",
   "name": "python",
   "nbconvert_exporter": "python",
   "pygments_lexer": "ipython3",
   "version": "3.6.9"
  }
 },
 "nbformat": 4,
 "nbformat_minor": 4
}
