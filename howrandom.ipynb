{
 "cells": [
  {
   "cell_type": "markdown",
   "metadata": {},
   "source": [
    "# Just How Random These Candy Codes Are\n",
    "\n",
    "Received a few of golden candy papers with codes in them and started to wonder the randomness of the codes.\n",
    "\n",
    "![Golden Candy Paper](candypaper.jpg)\n",
    "\n",
    "The source of the data is candy papers collected from bags of candies.\n",
    "\n",
    "This is good excuse to study how randomness is tested.\n"
   ]
  },
  {
   "cell_type": "markdown",
   "metadata": {},
   "source": [
    "## Import the Data\n",
    "\n",
    "Import the data from `data.csv` file. The data is CSV file with candy paper identifier and code on the candy paper."
   ]
  },
  {
   "cell_type": "code",
   "execution_count": 3,
   "metadata": {},
   "outputs": [],
   "source": [
    "import csv\n",
    "\n",
    "\n",
    "DATA_FILE = 'data.csv'\n",
    "\n",
    "\n",
    "def read_data(file):\n",
    "    data = []\n",
    "    with open(file, newline='') as csvfile:\n",
    "        reader = csv.reader(csvfile)\n",
    "        header = True\n",
    "        for row in reader:\n",
    "            if not header:\n",
    "                data.append((int(row[0]), row[1].strip()))\n",
    "            else:\n",
    "                # ignore header/first row\n",
    "                header = False\n",
    "    return data\n",
    "\n",
    "\n",
    "data = read_data(DATA_FILE)"
   ]
  },
  {
   "cell_type": "markdown",
   "metadata": {},
   "source": [
    "## Entropy Testing"
   ]
  }
 ],
 "metadata": {
  "kernelspec": {
   "display_name": "Python 3",
   "language": "python",
   "name": "python3"
  },
  "language_info": {
   "codemirror_mode": {
    "name": "ipython",
    "version": 3
   },
   "file_extension": ".py",
   "mimetype": "text/x-python",
   "name": "python",
   "nbconvert_exporter": "python",
   "pygments_lexer": "ipython3",
   "version": "3.6.9"
  }
 },
 "nbformat": 4,
 "nbformat_minor": 4
}
